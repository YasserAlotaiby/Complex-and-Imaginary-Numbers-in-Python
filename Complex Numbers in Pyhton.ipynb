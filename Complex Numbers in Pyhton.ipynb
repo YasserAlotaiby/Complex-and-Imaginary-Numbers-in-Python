{
 "cells": [
  {
   "cell_type": "markdown",
   "metadata": {},
   "source": [
    "# $$Introduction\\space to\\space Complex\\space Numbers\\space in\\space Python$$\n",
    "<center>both the concept and the syntax</center>"
   ]
  },
  {
   "cell_type": "markdown",
   "metadata": {},
   "source": [
    "# $$Complex\\space Numbers\\space and\\space Imaginary\\space Uint\\space i\\space$$ \n",
    "<center>A $Complex\\space Number$ is a number that can be expressed in the form: $$a + bi$$\n",
    "where $a$ and $b$ are real numbers, and $i$ is an $Imaginary\\space Number$ which when it's squared it's equal to -1 :\n",
    "$$ i² = −1 $$<center/>\n",
    "    <center>thus, $i$ is equal to the root of -1 $$i = \\sqrt{-1}$$</center>"
   ]
  },
  {
   "cell_type": "markdown",
   "metadata": {},
   "source": [
    "# <center>$Complex$ $Numbers$ $in$ $Python$</center>\n",
    "<center>to deal with complex numbers in Python, we use the bilt-in function <code>complex(x,y)</code> where <code>x</code> is a real part, and <code>y</code> is the imaginary one </center>"
   ]
  },
  {
   "cell_type": "code",
   "execution_count": 1,
   "metadata": {},
   "outputs": [
    {
     "name": "stdout",
     "output_type": "stream",
     "text": [
      "(1+2j) (1+0j) True\n"
     ]
    }
   ],
   "source": [
    "print(complex(1,2), # This is equivalent to (real + imag*1j) where imag defaults to 0\n",
    "complex(1),\n",
    "complex(1) == 1)"
   ]
  },
  {
   "cell_type": "markdown",
   "metadata": {},
   "source": [
    "# $$imaginary\\space unit\\space i\\space in\\space Python$$\n",
    "<center><code>1j</code> is a built-in imaginary number in Python, but to make it less painful to use, we'll assign a variable to use</center>"
   ]
  },
  {
   "cell_type": "code",
   "execution_count": 2,
   "metadata": {},
   "outputs": [
    {
     "data": {
      "text/plain": [
       "1j"
      ]
     },
     "execution_count": 2,
     "metadata": {},
     "output_type": "execute_result"
    }
   ],
   "source": [
    "from cmath import sqrt\n",
    "# complex(0,1) = i\n",
    "j = sqrt(-1)\n",
    "j"
   ]
  },
  {
   "cell_type": "code",
   "execution_count": 3,
   "metadata": {},
   "outputs": [
    {
     "data": {
      "text/plain": [
       "(-1+0j)"
      ]
     },
     "execution_count": 3,
     "metadata": {},
     "output_type": "execute_result"
    }
   ],
   "source": [
    "j**2 # = √-1٠√-1 = -1 | (-1+0j) = -1"
   ]
  },
  {
   "cell_type": "code",
   "execution_count": 4,
   "metadata": {},
   "outputs": [
    {
     "data": {
      "text/plain": [
       "(-0-1j)"
      ]
     },
     "execution_count": 4,
     "metadata": {},
     "output_type": "execute_result"
    }
   ],
   "source": [
    "j**3 # 2i٠i = -1٠i = -i | (-0-1j) = -i"
   ]
  },
  {
   "cell_type": "code",
   "execution_count": 5,
   "metadata": {},
   "outputs": [
    {
     "data": {
      "text/plain": [
       "(1+0j)"
      ]
     },
     "execution_count": 5,
     "metadata": {},
     "output_type": "execute_result"
    }
   ],
   "source": [
    "j**4 #2i٠2i = -1٠-1 = 1 | (1+0j) = 1"
   ]
  },
  {
   "cell_type": "markdown",
   "metadata": {},
   "source": [
    "# $$Powers\\space of\\space The\\space Imaginary\\space Unit\\space i$$"
   ]
  },
  {
   "cell_type": "markdown",
   "metadata": {},
   "source": [
    "<center>Square and other powers of i</center>\n",
    "\n",
    "$$i^1 = i\\ \\ \\ \\ \\ \\ \\ \\ \\ \\ \\ \\ i^2 = -1\\ \\ \\ \\ \\ \\ \\ \\ \\ \\ \\ \\ i^3 = -i\\ \\ \\ \\ \\ \\ \\ \\ \\ \\ \\ \\  i^4 = 1$$ \n"
   ]
  },
  {
   "cell_type": "markdown",
   "metadata": {},
   "source": [
    "$$it\\space goes\\space on:$$\n",
    "$$i^6=i^4⋅i^2$$\n",
    "$$=(i^2⋅i^2)⋅i^2$$\n",
    "$$=1⋅(−1)$$\n",
    "$$=-1$$"
   ]
  },
  {
   "cell_type": "markdown",
   "metadata": {},
   "source": [
    "<center>however, when you try more, you can see that it has a <b>pattren</b></center>\n",
    "\n",
    "$$i^5 = i^1 = i$$\n",
    "$$i^6 = i^2 = -1 $$\n",
    "$$i^7 = i^3 = -i$$\n",
    "$$i^8 = i^4 = 1$$\n"
   ]
  },
  {
   "cell_type": "code",
   "execution_count": 6,
   "metadata": {},
   "outputs": [
    {
     "name": "stdout",
     "output_type": "stream",
     "text": [
      "True True True True\n"
     ]
    }
   ],
   "source": [
    "print(\n",
    "j**5 == j**1,# = i\n",
    "j**6 == j**2,# = -1         \n",
    "j**7 == j**3,# = -i\n",
    "j**8 == j**4 # = 1\n",
    ")"
   ]
  },
  {
   "cell_type": "markdown",
   "metadata": {},
   "source": [
    "# $$Simplifying\\space roots\\space of\\space negative\\space numbers$$\n",
    "$$Example: \\sqrt{-18}$$\n",
    "$$$$\n",
    "$$=i\\sqrt{18}$$\n",
    "$$=i⋅\\sqrt{9⋅2}$$\n",
    "$$=i\\sqrt{9}⋅\\sqrt{2}$$\n",
    "$$=i⋅3⋅\\sqrt{2}$$\n",
    "$$=3i\\sqrt{2}$$\n",
    "$$$$\n",
    "$$\\sqrt{-18}=3i\\sqrt{2}$$\n"
   ]
  },
  {
   "cell_type": "code",
   "execution_count": 7,
   "metadata": {},
   "outputs": [
    {
     "data": {
      "text/latex": [
       "$\\displaystyle 3 \\sqrt{2} i$"
      ],
      "text/plain": [
       "3*sqrt(2)*I"
      ]
     },
     "execution_count": 7,
     "metadata": {},
     "output_type": "execute_result"
    }
   ],
   "source": [
    "import sympy as s\n",
    "s.simplify(s.sqrt(-18))"
   ]
  },
  {
   "cell_type": "markdown",
   "metadata": {},
   "source": [
    "# $$Adding \\space and \\space Substracting \\space Complex \\space Numbers$$\n",
    "$$(a1​+b1​i)+(a2​+b2​i)=(a1​+a2​)+(b1​+b2​)i$$ \n",
    "$$(a1​+b1​i)−(a2​+b2​i)=(a1​−a2​)+(b1​−b2​)i$$ <br>\n",
    "<center>Example: ($5+2i$) $+$ ($3-7i$) or ($5+2i$) $-$ ($3-7i$)<br>\n",
    "for $adding$, we combine the imaginary numbers with eachother, and real numbers with eachother:\n",
    "$$5+3,2i-7i$$\n",
    "$$= 8-5i$$\n",
    "in $substractin$g we do the same but substarct instead of combining, obveously.</center>"
   ]
  },
  {
   "cell_type": "code",
   "execution_count": 8,
   "metadata": {},
   "outputs": [
    {
     "name": "stdout",
     "output_type": "stream",
     "text": [
      "(8-5j) (2+9j)\n"
     ]
    }
   ],
   "source": [
    "print(\n",
    "(5+2j)+(3-7j),\n",
    "(5+2j)-(3-7j)) "
   ]
  },
  {
   "cell_type": "markdown",
   "metadata": {},
   "source": [
    "# $$Multiplying\\space Complex\\space Numbers$$\n",
    "<center>$and$ $dividing$ $them$</center><br>\n",
    "We use the distributive property in multiplying real numbers by complex number, which the same when dealing with a varibale like x in basic Algebra, but how we multiply a pure imaginary number with a complex number?\n",
    " <center>Example : $2i(3−8i)$</center>\n",
    " we distribute $2i$ to the second part, which gives us $6i−16i^2$, but the problem is it's not in the form $a+bi$\n",
    " so we git rid of the squeared $i$ by multiplying $16$ by $-1$, which leaves us with $16+6i$, which is the result.<br>"
   ]
  },
  {
   "cell_type": "code",
   "execution_count": 9,
   "metadata": {},
   "outputs": [
    {
     "name": "stdout",
     "output_type": "stream",
     "text": [
      "(16+6j)\n"
     ]
    }
   ],
   "source": [
    "print(\n",
    "2j*(3-8j),\n",
    ")"
   ]
  },
  {
   "cell_type": "markdown",
   "metadata": {},
   "source": [
    "what about multplying a complex number with another one?\n",
    "$$(a1​+b1​i)⋅(a2​+b2​i)=(a1​a2​−b1​b2​)+(a1​b2​+a2​b1​)i$$<br>\n",
    "<center>$$Example: (1+4i)(5+i)$$<br>\n",
    "like multiplying two polynomials or matrixes, Multiply each part in the first number by each part in the second<br>\n",
    "$(1+4i)(5+i)​=(1)(5)+(1)(i)+(4i)(5)+(4i)(i)$<br>\n",
    "$=5+i+20i+4i2$<br>\n",
    "$=5+21i+4i2​$<br><br>\n",
    "now let's get rid of that squared $i$:<br>\n",
    "$=5+21i+4(−1)$<br>\n",
    "$=5+21i−4$<br>\n",
    "$=1+21i​$\n",
    "</center>"
   ]
  },
  {
   "cell_type": "code",
   "execution_count": 10,
   "metadata": {},
   "outputs": [
    {
     "name": "stdout",
     "output_type": "stream",
     "text": [
      "(1+21j)\n"
     ]
    }
   ],
   "source": [
    "print(\n",
    "(1+4j)*(5+1j),\n",
    ")"
   ]
  },
  {
   "cell_type": "markdown",
   "metadata": {},
   "source": [
    "<center>dividing them takes more than an introduction, however, you surely now know how to divide them in python<center>"
   ]
  },
  {
   "cell_type": "markdown",
   "metadata": {},
   "source": [
    "# $$Summary\\space of \\space the \\space Operations$$"
   ]
  },
  {
   "cell_type": "code",
   "execution_count": 11,
   "metadata": {},
   "outputs": [
    {
     "name": "stdout",
     "output_type": "stream",
     "text": [
      "Results : \n",
      "+ : (11+18j) \n",
      "- : (9+22j) \n",
      "* : (50+0j) \n",
      "/ : (-6+8j)\n"
     ]
    }
   ],
   "source": [
    "print(     \n",
    "'Results :',\n",
    "'\\n+ :',(10+20j)+(1-2j),\n",
    "'\\n- :',(10+20j)-(1-2j),\n",
    "'\\n* :',(10+20j)*(1-2j),\n",
    "'\\n/ :',(10+20j)/(1-2j))"
   ]
  }
 ],
 "metadata": {
  "kernelspec": {
   "display_name": "Python 3",
   "language": "python",
   "name": "python3"
  },
  "language_info": {
   "codemirror_mode": {
    "name": "ipython",
    "version": 3
   },
   "file_extension": ".py",
   "mimetype": "text/x-python",
   "name": "python",
   "nbconvert_exporter": "python",
   "pygments_lexer": "ipython3",
   "version": "3.7.6"
  }
 },
 "nbformat": 4,
 "nbformat_minor": 4
}
